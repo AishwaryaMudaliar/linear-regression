{
  "cells": [
    {
      "cell_type": "code",
      "execution_count": null,
      "metadata": {
        "id": "myCIy5xnz7RR",
        "outputId": "0c78b97d-9354-4722-b15b-d7fd993cf1f8"
      },
      "outputs": [
        {
          "name": "stdout",
          "output_type": "stream",
          "text": [
            "    YearsExperience  Salary\n",
            "0                 1   25000\n",
            "1                 2   30000\n",
            "2                 3   32000\n",
            "3                 4   35000\n",
            "4                 5   38000\n",
            "5                 6   40000\n",
            "6                 7   42000\n",
            "7                 8   45000\n",
            "8                 9   47000\n",
            "9                10   50000\n",
            "10               11   60000\n",
            "11               12   75000\n",
            "12               13   80000\n",
            "13               14   85000\n",
            "14               15   90000\n",
            "15               16  100000\n",
            "16               17  120000\n",
            "17               18  130000\n",
            "18               19  140000\n",
            "19               20  150000\n",
            "[[ 1]\n",
            " [ 2]\n",
            " [ 3]\n",
            " [ 4]\n",
            " [ 5]\n",
            " [ 6]\n",
            " [ 7]\n",
            " [ 8]\n",
            " [ 9]\n",
            " [10]\n",
            " [11]\n",
            " [12]\n",
            " [13]\n",
            " [14]\n",
            " [15]\n",
            " [16]\n",
            " [17]\n",
            " [18]\n",
            " [19]\n",
            " [20]]\n",
            "[[ 25000]\n",
            " [ 30000]\n",
            " [ 32000]\n",
            " [ 35000]\n",
            " [ 38000]\n",
            " [ 40000]\n",
            " [ 42000]\n",
            " [ 45000]\n",
            " [ 47000]\n",
            " [ 50000]\n",
            " [ 60000]\n",
            " [ 75000]\n",
            " [ 80000]\n",
            " [ 85000]\n",
            " [ 90000]\n",
            " [100000]\n",
            " [120000]\n",
            " [130000]\n",
            " [140000]\n",
            " [150000]]\n"
          ]
        }
      ],
      "source": [
        "# This is First Program to implement Linear Regression \n",
        "\n",
        "# Problem-1: Implementation of Linear Regression to predict salary of a person\n",
        "\n",
        "# Step 1 Load Data\n",
        "import pandas as pd #Used to data in dataframe\n",
        "dataset = pd.read_csv('Salary_Data.csv')\n",
        "X = dataset.iloc[:, [0]].values #YearsExperience Column (Independent variable)\n",
        "y = dataset.iloc[:,[1]].values #Salary column (Dependent Variable)\n",
        "print(dataset)\n",
        "print(X)\n",
        "print(y)"
      ]
    },
    {
      "cell_type": "code",
      "execution_count": null,
      "metadata": {
        "id": "1Mu48ONlz7RV",
        "outputId": "79ec24d4-000a-47e5-ac77-21dbc58a7c13"
      },
      "outputs": [
        {
          "name": "stdout",
          "output_type": "stream",
          "text": [
            "[6407.51879699] [3421.05263158]\n"
          ]
        },
        {
          "data": {
            "image/png": "[encoded data removed]",
            "text/plain": [
              "<Figure size 432x288 with 1 Axes>"
            ]
          },
          "metadata": {
            "needs_background": "light"
          },
          "output_type": "display_data"
        }
      ],
      "source": [
        "import numpy as np\n",
        "# plot the regression line\n",
        "# Mean X and Y\n",
        "mean_x = np.mean(X)\n",
        "mean_y = np.mean(y)\n",
        " \n",
        "# Total number of values\n",
        "n = len(X)\n",
        " \n",
        "# Using the formula to calculate m and c\n",
        "numer = 0\n",
        "denom = 0\n",
        "for i in range(n):\n",
        "    numer += (X[i] - mean_x) * (y[i] - mean_y)\n",
        "    denom += (X[i] - mean_x) ** 2\n",
        "m = numer / denom\n",
        "c = mean_y - (m * mean_x)\n",
        " \n",
        "# Print coefficients\n",
        "print(m, c)\n",
        "\n",
        "import matplotlib.pyplot as plt\n",
        "# plot the actual data points of training set\n",
        "plt.scatter(X, y, color = 'red')\n",
        "y=m*X+c\n",
        "plt.plot(X, y, color='blue')\n",
        "plt.title('Salary vs Experience')\n",
        "plt.xlabel('Years of Experience') #independent variable\n",
        "plt.ylabel('Salary') #dependent variable\n",
        "plt.show()"
      ]
    },
    {
      "cell_type": "code",
      "execution_count": null,
      "metadata": {
        "id": "l_f85MfSz7RW",
        "outputId": "27ff5f49-fa1e-4e35-c0a7-6e118108df98"
      },
      "outputs": [
        {
          "name": "stdout",
          "output_type": "stream",
          "text": [
            "[[11]\n",
            " [18]\n",
            " [ 7]\n",
            " [14]\n",
            " [ 5]\n",
            " [ 3]\n",
            " [ 6]\n",
            " [15]\n",
            " [10]\n",
            " [ 8]\n",
            " [17]\n",
            " [12]\n",
            " [ 4]\n",
            " [ 1]\n",
            " [16]\n",
            " [13]]\n",
            "[[19]\n",
            " [ 2]\n",
            " [20]\n",
            " [ 9]]\n",
            "[[ 60000]\n",
            " [130000]\n",
            " [ 42000]\n",
            " [ 85000]\n",
            " [ 38000]\n",
            " [ 32000]\n",
            " [ 40000]\n",
            " [ 90000]\n",
            " [ 50000]\n",
            " [ 45000]\n",
            " [120000]\n",
            " [ 75000]\n",
            " [ 35000]\n",
            " [ 25000]\n",
            " [100000]\n",
            " [ 80000]]\n",
            "[[140000]\n",
            " [ 30000]\n",
            " [150000]\n",
            " [ 47000]]\n"
          ]
        }
      ],
      "source": [
        "# Step 2: Split data into training and testing set\n",
        "from sklearn.model_selection import train_test_split\n",
        "X_train, X_test, y_train, y_test = train_test_split(X, y, test_size= 0.2, random_state=0) \n",
        "#test data will be 1/3 and 2/3 will training data \n",
        "print(X_train) # year as form of training data\n",
        "print(X_test) # year as form of testing data\n",
        "print (y_train) # salary - training data\n",
        "print (y_test) # salary = testing data"
      ]
    },
    {
      "cell_type": "code",
      "execution_count": null,
      "metadata": {
        "id": "Cx_4EHLIz7RX",
        "outputId": "f282843c-4b16-4657-e05e-28f404a9024a"
      },
      "outputs": [
        {
          "data": {
            "text/plain": [
              "LinearRegression()"
            ]
          },
          "execution_count": 15,
          "metadata": {},
          "output_type": "execute_result"
        }
      ],
      "source": [
        "#Building the model\n",
        "# Step 3: Fit Simple Linear Regression to Training Data\n",
        "from sklearn.linear_model import LinearRegression\n",
        "regressor = LinearRegression() #we are creating object of the linearregression class by dynamically.\n",
        "regressor.fit(X_train, y_train) # we are fitting the model by training data"
      ]
    },
    {
      "cell_type": "code",
      "execution_count": null,
      "metadata": {
        "id": "virJPAXRz7RY"
      },
      "outputs": [],
      "source": [
        "# Step 4: Make Prediction\n",
        "y_pred = regressor.predict(X_test) # on the basis of exp. we are predicting the salary from test data.\n",
        "# we need to pass testing data value for prediction purpose.\n",
        "# x_test = year value from the testing data\n",
        "#y_pred = this will predict the salary according to the year"
      ]
    },
    {
      "cell_type": "code",
      "execution_count": null,
      "metadata": {
        "id": "ih7j6iOfz7RZ",
        "outputId": "9ddb0873-0180-420f-e569-bb42139b5962"
      },
      "outputs": [
        {
          "data": {
            "image/png": "[encoded data removed]",
            "text/plain": [
              "<Figure size 432x288 with 1 Axes>"
            ]
          },
          "metadata": {
            "needs_background": "light"
          },
          "output_type": "display_data"
        }
      ],
      "source": [
        "# Step 5 - Visualize training set results\n",
        "import matplotlib.pyplot as plt\n",
        "# plot the actual data points of training set\n",
        "plt.scatter(X_train, y_train, color = 'red')\n",
        "# plot the regression line\n",
        "plt.plot(X_train, regressor.predict(X_train), color='blue')\n",
        "plt.title('Salary vs Experience (Training set)')\n",
        "plt.xlabel('Years of Experience') #independent variable\n",
        "plt.ylabel('Salary') #dependent variable\n",
        "plt.show()"
      ]
    },
    {
      "cell_type": "code",
      "execution_count": null,
      "metadata": {
        "id": "X3SSSdxWz7Ra",
        "outputId": "0a82ed43-8191-499f-f138-818007cc0a42"
      },
      "outputs": [
        {
          "data": {
            "image/png": "[encoded data removed]",
            "text/plain": [
              "<Figure size 432x288 with 1 Axes>"
            ]
          },
          "metadata": {
            "needs_background": "light"
          },
          "output_type": "display_data"
        }
      ],
      "source": [
        "# Step 6 - Visualize test set results\n",
        "import matplotlib.pyplot as plt\n",
        "# plot the actual data points of test set\n",
        "plt.scatter(X_test, y_test, color = 'red')\n",
        "# plot the regression line (same as above)\n",
        "plt.plot(X_test, regressor.predict(X_test), color='blue')\n",
        "plt.title('Salary vs Experience (Test set)')\n",
        "plt.xlabel('Years of Experience')\n",
        "plt.ylabel('Salary')\n",
        "plt.show()"
      ]
    },
    {
      "cell_type": "code",
      "execution_count": null,
      "metadata": {
        "id": "LKc6ihibz7Ra",
        "outputId": "59ccf18a-1be5-4fdd-f38f-429da470f4c4"
      },
      "outputs": [
        {
          "name": "stdout",
          "output_type": "stream",
          "text": [
            "The predicted salary of a person with 15 years experience is  [[130166.27358491]]\n"
          ]
        }
      ],
      "source": [
        "# Step 7 - Make new prediction\n",
        "new_salary_pred = regressor.predict([[21]])\n",
        "print('The predicted salary of a person with 15 years experience is ',new_salary_pred)"
      ]
    },
    {
      "cell_type": "code",
      "execution_count": null,
      "metadata": {
        "id": "275Aqi8Rz7Rb",
        "outputId": "2f9a2339-7ecc-4be2-f0a4-bd43f2ccfc53"
      },
      "outputs": [
        {
          "name": "stdout",
          "output_type": "stream",
          "text": [
            "Slope: [[5884.43396226]]\n",
            "Intercept: [6593.16037736]\n"
          ]
        }
      ],
      "source": [
        "# printing values\n",
        "print('Slope:' ,regressor.coef_)\n",
        "print('Intercept:', regressor.intercept_)"
      ]
    },
    {
      "cell_type": "code",
      "execution_count": null,
      "metadata": {
        "id": "t8yHRMJFz7Rc",
        "outputId": "5602c06d-b3d8-4223-a991-a0fff5e24a45"
      },
      "outputs": [
        {
          "name": "stdout",
          "output_type": "stream",
          "text": [
            "MSE: 355279426.8979172\n",
            "MAE: 17877.948113207545\n",
            "RMSE: 18848.857442771357\n"
          ]
        }
      ],
      "source": [
        "#Finding Residuals or errors\n",
        "from sklearn import metrics\n",
        "print ('MSE:',metrics.mean_squared_error(y_test,y_pred))\n",
        "print ('MAE:',metrics.mean_absolute_error(y_test,y_pred))\n",
        "print ('RMSE:',np.sqrt(metrics.mean_squared_error(y_test,y_pred)))"
      ]
    },
    {
      "cell_type": "code",
      "execution_count": null,
      "metadata": {
        "id": "oH6uEbJwz7Rc"
      },
      "outputs": [],
      "source": [
        ""
      ]
    },
    {
      "cell_type": "code",
      "execution_count": null,
      "metadata": {
        "id": "dZvMP8-mz7Rd"
      },
      "outputs": [],
      "source": [
        ""
      ]
    }
  ],
  "metadata": {
    "kernelspec": {
      "display_name": "Python 3",
      "language": "python",
      "name": "python3"
    },
    "language_info": {
      "codemirror_mode": {
        "name": "ipython",
        "version": 3
      },
      "file_extension": ".py",
      "mimetype": "text/x-python",
      "name": "python",
      "nbconvert_exporter": "python",
      "pygments_lexer": "ipython3",
      "version": "3.8.3"
    },
    "colab": {
      "name": "VSK_LinearRegression.ipynb",
      "provenance": []
    }
  },
  "nbformat": 4,
  "nbformat_minor": 0
}